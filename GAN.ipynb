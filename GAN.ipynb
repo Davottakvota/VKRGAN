{
  "cells": [
    {
      "cell_type": "markdown",
      "metadata": {
        "id": "view-in-github",
        "colab_type": "text"
      },
      "source": [
        "<a href=\"https://colab.research.google.com/github/Davottakvota/VKRGAN/blob/main/GAN.ipynb\" target=\"_parent\"><img src=\"https://colab.research.google.com/assets/colab-badge.svg\" alt=\"Open In Colab\"/></a>"
      ]
    },
    {
      "cell_type": "markdown",
      "id": "3ca20f33-24f7-48ad-a507-efab1f2b9178",
      "metadata": {
        "id": "3ca20f33-24f7-48ad-a507-efab1f2b9178"
      },
      "source": [
        "# Библиотеки"
      ]
    },
    {
      "cell_type": "code",
      "execution_count": null,
      "id": "46c25710-ed64-4fb4-b0f4-e380941a604f",
      "metadata": {
        "id": "46c25710-ed64-4fb4-b0f4-e380941a604f"
      },
      "outputs": [],
      "source": [
        "import tensorflow as tf\n",
        "import glob\n",
        "import imageio\n",
        "import matplotlib.pyplot as plt\n",
        "import matplotlib.animation as animation\n",
        "import numpy as np\n",
        "import os\n",
        "import PIL\n",
        "from tensorflow.keras import layers\n",
        "import time\n",
        "from IPython.display import HTML\n",
        "from IPython import display\n",
        "import tensorflow_datasets as tfds\n",
        "import cv2\n",
        "!pip install vnoise\n",
        "import vnoise\n",
        "\n",
        "tf.__version__"
      ]
    },
    {
      "cell_type": "code",
      "execution_count": null,
      "id": "xg1cjdE-5XYH",
      "metadata": {
        "id": "xg1cjdE-5XYH"
      },
      "outputs": [],
      "source": [
        "import os\n",
        "from google.colab import drive\n",
        "\n",
        "# Mount Google Drive\n",
        "drive.mount('/content/drive')\n",
        "\n",
        "# # Create a folder in the root directory\n",
        "# !mkdir -p \"/content/drive/My Drive/My Folder\"\n",
        "\n",
        "# # Write a sample file to Google Drive\n",
        "# with open('/content/drive/My Drive/My Folder/sample.txt', 'w') as f:\n",
        "#   f.write('Hello, World!')"
      ]
    },
    {
      "cell_type": "markdown",
      "source": [
        "Создание папок"
      ],
      "metadata": {
        "id": "RNgxVlm-Hivc"
      },
      "id": "RNgxVlm-Hivc"
    },
    {
      "cell_type": "code",
      "source": [
        "%%bash\n",
        "dirs=(\n",
        "    \"/content/drive/My Drive/checkweights\"\n",
        "    \"/content/drive/My Drive/checkweights2\"\n",
        "    \"/content/drive/My Drive/videos\"\n",
        "    \"/content/drive/My Drive/videos/5epochs\"\n",
        "    \"/content/drive/My Drive/videos/20epochs\"\n",
        "    \"/content/drive/My Drive/videos/60epochs\"\n",
        "    \"/content/drive/My Drive/videos/SAMPLESFORMETRIC\"\n",
        ")\n",
        "\n",
        "for dir in \"${dirs[@]}\"; do\n",
        "    if [ ! -d \"$dir\" ]; then\n",
        "        mkdir -p \"$dir\"\n",
        "        echo \"✅ Создана папка: $dir\"\n",
        "    else\n",
        "        echo \"ℹ️ Папка уже существует: $dir\"\n",
        "    fi\n",
        "done"
      ],
      "metadata": {
        "id": "QxQSWX3dmgDY"
      },
      "id": "QxQSWX3dmgDY",
      "execution_count": null,
      "outputs": []
    },
    {
      "cell_type": "code",
      "execution_count": null,
      "id": "nEZeZQoCOqeO",
      "metadata": {
        "id": "nEZeZQoCOqeO"
      },
      "outputs": [],
      "source": [
        "#!rm –f \"/content/drive/My Drive/videos/TEST.mp4\""
      ]
    },
    {
      "cell_type": "markdown",
      "id": "2e01a131-a715-49f8-a0b3-b398a737edfa",
      "metadata": {
        "id": "2e01a131-a715-49f8-a0b3-b398a737edfa"
      },
      "source": [
        "# GAN"
      ]
    },
    {
      "cell_type": "markdown",
      "id": "7390f0b8-9338-4e3b-8e9e-c269015b8f14",
      "metadata": {
        "id": "7390f0b8-9338-4e3b-8e9e-c269015b8f14"
      },
      "source": [
        "## Генератор"
      ]
    },
    {
      "cell_type": "code",
      "execution_count": null,
      "id": "1768eec2-c1f5-4882-a612-2dfdd276ce58",
      "metadata": {
        "id": "1768eec2-c1f5-4882-a612-2dfdd276ce58"
      },
      "outputs": [],
      "source": [
        "FPS=4\n",
        "duration=5\n",
        "width=64\n",
        "height=64\n",
        "noisedim=100\n",
        "\n",
        "def make_generator_model():\n",
        "    model = tf.keras.Sequential()\n",
        "    model.add(layers.Dense(int(FPS*duration/4)*int(width/8)*int(height/8)*512, use_bias=False, input_shape=(noisedim,)))\n",
        "    model.add(layers.BatchNormalization())\n",
        "    model.add(layers.ELU())\n",
        "\n",
        "    model.add(layers.Reshape((int(FPS*duration/4), int(width/8), int(height/8), 512)))\n",
        "    assert model.output_shape == (None, int(FPS*duration/4), int(width/8), int(height/8), 512)  # Note: None is the batch size\n",
        "\n",
        "    model.add(layers.Conv3DTranspose(256, (5, 5, 5), strides=(1, 1, 1), padding='same', use_bias=False))\n",
        "    assert model.output_shape == (None, int(FPS*duration/4), int(width/8), int(height/8), 256)\n",
        "    model.add(layers.BatchNormalization())\n",
        "    model.add(layers.ELU())\n",
        "\n",
        "    model.add(layers.Conv3DTranspose(128, (5, 5, 5), strides=(1, 2, 2), padding='same', use_bias=False))\n",
        "    assert model.output_shape == (None, int(FPS*duration/4), int(width/4), int(height/4), 128)\n",
        "    model.add(layers.BatchNormalization())\n",
        "    model.add(layers.ELU())\n",
        "\n",
        "    model.add(layers.Conv3DTranspose(64, (5, 5, 5), strides=(2, 2, 2), padding='same', use_bias=False))\n",
        "    assert model.output_shape == (None, int(FPS*duration/2), int(width/2), int(height/2), 64)\n",
        "    model.add(layers.BatchNormalization())\n",
        "    model.add(layers.ELU())\n",
        "\n",
        "    model.add(layers.Conv3DTranspose(1, (5, 5, 5), strides=(2, 2, 2), padding='same', use_bias=False, activation='tanh'))\n",
        "    assert model.output_shape == (None, int(FPS*duration), int(width), int(height), 1)\n",
        "\n",
        "    return model"
      ]
    },
    {
      "cell_type": "markdown",
      "source": [
        "#### Noise"
      ],
      "metadata": {
        "id": "FDlwJ-y51khp"
      },
      "id": "FDlwJ-y51khp"
    },
    {
      "cell_type": "code",
      "source": [
        "def gennoise(n):\n",
        "  # Шум Перлина\n",
        "  # numPoints = 100\n",
        "  # time = np.linspace(0, 10, num=numPoints)\n",
        "  # noise = vnoise.Noise()\n",
        "  # noises = []\n",
        "  # for i in range(n):\n",
        "  #   seed = np.random.randint(0, 1000)\n",
        "  #   noise.seed(seed)\n",
        "  #   noises.append(noise.noise1(time, octaves=20))\n",
        "  # return np.array(noises)\n",
        "\n",
        "  # Нормальный шум\n",
        "  return tf.random.normal([n, noisedim])"
      ],
      "metadata": {
        "id": "Y2GGUkSl2UEo"
      },
      "id": "Y2GGUkSl2UEo",
      "execution_count": null,
      "outputs": []
    },
    {
      "cell_type": "markdown",
      "source": [
        "#### Generation test"
      ],
      "metadata": {
        "id": "7-c218gO2VGG"
      },
      "id": "7-c218gO2VGG"
    },
    {
      "cell_type": "code",
      "execution_count": null,
      "id": "4f060e31-c4cb-4fee-be41-83aae858c5db",
      "metadata": {
        "id": "4f060e31-c4cb-4fee-be41-83aae858c5db"
      },
      "outputs": [],
      "source": [
        "generator = make_generator_model()\n",
        "\n",
        "noise = gennoise(1)\n",
        "generated_image = generator(noise, training=False)\n",
        "\n",
        "generated_image.shape"
      ]
    },
    {
      "cell_type": "code",
      "execution_count": null,
      "id": "482e6c5f-827c-49ed-930e-e4e553a11195",
      "metadata": {
        "id": "482e6c5f-827c-49ed-930e-e4e553a11195"
      },
      "outputs": [],
      "source": [
        "fig, ax = plt.subplots()\n",
        "def animate(i):\n",
        "    ax.clear()\n",
        "    return ax.imshow(generated_image[0, i, :, :, 0], cmap='gray')\n",
        "ani = animation.FuncAnimation(fig=fig,\n",
        "                              func=animate,\n",
        "                              frames=generated_image[0, :, 0, 0, 0].shape[0],\n",
        "                              interval=1000/FPS,\n",
        "                              blit=False)\n",
        "ani.save('/content/drive/My Drive/videos/TEST.mp4', animation.FFMpegWriter(fps=2) )\n",
        "HTML(ani.to_jshtml())"
      ]
    },
    {
      "cell_type": "markdown",
      "id": "3eb684fd-e1eb-40a2-9dc0-2b0712616ecb",
      "metadata": {
        "id": "3eb684fd-e1eb-40a2-9dc0-2b0712616ecb"
      },
      "source": [
        "## Дискриминатор"
      ]
    },
    {
      "cell_type": "code",
      "execution_count": null,
      "id": "11cbaafb-06f2-4718-b02f-e1441330f3d1",
      "metadata": {
        "id": "11cbaafb-06f2-4718-b02f-e1441330f3d1"
      },
      "outputs": [],
      "source": [
        "def make_discriminator_model():\n",
        "    model = tf.keras.Sequential()\n",
        "    model.add(layers.Input(shape=(int(FPS*duration), width, height, 1)))\n",
        "\n",
        "    model.add(layers.Conv3D(64, (5, 5, 5), strides=(2, 2, 2), padding='same'))\n",
        "    model.add(layers.LeakyReLU(0.2))\n",
        "\n",
        "    model.add(layers.Conv3D(128, (3, 3, 3), strides=(2, 2, 2), padding='same'))\n",
        "    model.add(layers.LeakyReLU(0.2))\n",
        "    model.add(layers.BatchNormalization())\n",
        "\n",
        "    model.add(layers.Conv3D(256, (3, 3, 3), padding='same'))\n",
        "    model.add(layers.LeakyReLU(0.2))\n",
        "\n",
        "    model.add(layers.GlobalAveragePooling3D())\n",
        "\n",
        "    model.add(layers.Dense(128))\n",
        "    model.add(layers.LeakyReLU(0.2))\n",
        "    model.add(layers.Dropout(0.2))\n",
        "\n",
        "    model.add(layers.Dense(1))\n",
        "\n",
        "    return model"
      ]
    },
    {
      "cell_type": "code",
      "execution_count": null,
      "id": "63dafba2-9e65-4fa0-8a8a-84187fb90cf9",
      "metadata": {
        "id": "63dafba2-9e65-4fa0-8a8a-84187fb90cf9"
      },
      "outputs": [],
      "source": [
        "discriminator = make_discriminator_model()\n",
        "decision = discriminator(generated_image)\n",
        "print(decision)"
      ]
    },
    {
      "cell_type": "markdown",
      "id": "6c9e48e5-190d-402b-ab02-f3e63bc62c5e",
      "metadata": {
        "id": "6c9e48e5-190d-402b-ab02-f3e63bc62c5e"
      },
      "source": [
        "## Кросс-энтропия"
      ]
    },
    {
      "cell_type": "code",
      "execution_count": null,
      "id": "335c646a-6672-4708-a0b5-3b360e705cfe",
      "metadata": {
        "id": "335c646a-6672-4708-a0b5-3b360e705cfe"
      },
      "outputs": [],
      "source": [
        "cross_entropy = tf.keras.losses.BinaryCrossentropy(from_logits=True)"
      ]
    },
    {
      "cell_type": "code",
      "execution_count": null,
      "id": "b697a4c4-7699-469c-84ee-17c7d3d28cb1",
      "metadata": {
        "id": "b697a4c4-7699-469c-84ee-17c7d3d28cb1"
      },
      "outputs": [],
      "source": [
        "def discriminator_loss(real_output, fake_output):\n",
        "    real_loss = cross_entropy(tf.ones_like(real_output), real_output)\n",
        "    fake_loss = cross_entropy(tf.zeros_like(fake_output), fake_output)\n",
        "    total_loss = real_loss + fake_loss\n",
        "    return total_loss"
      ]
    },
    {
      "cell_type": "code",
      "execution_count": null,
      "id": "a72fc723-910c-42a1-946e-ac86c32316a3",
      "metadata": {
        "id": "a72fc723-910c-42a1-946e-ac86c32316a3"
      },
      "outputs": [],
      "source": [
        "def generator_loss(fake_output):\n",
        "    return cross_entropy(tf.ones_like(fake_output), fake_output)"
      ]
    },
    {
      "cell_type": "markdown",
      "source": [
        "**Изменена скорость обучения для дискриминатора + бэта**"
      ],
      "metadata": {
        "id": "py8dOfoTh_Be"
      },
      "id": "py8dOfoTh_Be"
    },
    {
      "cell_type": "code",
      "execution_count": null,
      "id": "f1d5ee7d-2214-4804-a8a9-7fe2f3c17c95",
      "metadata": {
        "id": "f1d5ee7d-2214-4804-a8a9-7fe2f3c17c95"
      },
      "outputs": [],
      "source": [
        "generator_optimizer = tf.keras.optimizers.Adam(learning_rate=1e-4, beta_1=0.5)\n",
        "discriminator_optimizer = tf.keras.optimizers.Adam(learning_rate=4e-4, beta_1=0.5)"
      ]
    },
    {
      "cell_type": "markdown",
      "id": "07119bc5-5ca6-4c22-8692-e22b54bf64ea",
      "metadata": {
        "id": "07119bc5-5ca6-4c22-8692-e22b54bf64ea"
      },
      "source": [
        "## Чекпоинт"
      ]
    },
    {
      "cell_type": "code",
      "execution_count": null,
      "id": "bb1d1874-7a8d-438c-851c-89289e9ec685",
      "metadata": {
        "id": "bb1d1874-7a8d-438c-851c-89289e9ec685"
      },
      "outputs": [],
      "source": [
        "checkpoint_dir = \"/content/drive/My Drive/checkweights\"\n",
        "checkpoint_prefix = os.path.join(checkpoint_dir, \"ckpt\")\n",
        "checkpoint = tf.train.Checkpoint(generator_optimizer=generator_optimizer,\n",
        "                                 discriminator_optimizer=discriminator_optimizer,\n",
        "                                 generator=generator,\n",
        "                                 discriminator=discriminator)"
      ]
    },
    {
      "cell_type": "code",
      "source": [
        "#READ\n",
        "checkpoint.read(checkpoint_prefix)"
      ],
      "metadata": {
        "id": "JHy191hgXMct"
      },
      "id": "JHy191hgXMct",
      "execution_count": null,
      "outputs": []
    },
    {
      "cell_type": "markdown",
      "source": [
        "#### Only Generator chekpoint save"
      ],
      "metadata": {
        "id": "PAZK9B0CDJ_O"
      },
      "id": "PAZK9B0CDJ_O"
    },
    {
      "cell_type": "code",
      "source": [
        "#!mkdir -p \"/content/drive/My Drive/checkweights/generatorweights\""
      ],
      "metadata": {
        "id": "vWKzOO2sDZTr"
      },
      "id": "vWKzOO2sDZTr",
      "execution_count": null,
      "outputs": []
    },
    {
      "cell_type": "code",
      "source": [
        "#generator.save_weights('/content/drive/My Drive/checkweights/generatorweights/model.weights.h5')"
      ],
      "metadata": {
        "id": "6Qv-dQprEBZ7"
      },
      "id": "6Qv-dQprEBZ7",
      "execution_count": null,
      "outputs": []
    },
    {
      "cell_type": "markdown",
      "id": "84621ca2-b100-4a26-b00b-6e4db38d7ed5",
      "metadata": {
        "id": "84621ca2-b100-4a26-b00b-6e4db38d7ed5"
      },
      "source": [
        "# moving mnist"
      ]
    },
    {
      "cell_type": "code",
      "execution_count": null,
      "id": "e379acf8-7e36-4f56-968d-7af1102447ad",
      "metadata": {
        "id": "e379acf8-7e36-4f56-968d-7af1102447ad"
      },
      "outputs": [],
      "source": [
        "BATCH_SIZE = 100\n",
        "ds = tfds.load('moving_mnist', split='test', batch_size=BATCH_SIZE)"
      ]
    },
    {
      "cell_type": "code",
      "execution_count": null,
      "id": "ae9f3f47-5701-4594-a401-31ecf9ce1751",
      "metadata": {
        "id": "ae9f3f47-5701-4594-a401-31ecf9ce1751"
      },
      "outputs": [],
      "source": [
        "videos = tfds.as_numpy(ds)"
      ]
    },
    {
      "cell_type": "code",
      "execution_count": null,
      "id": "ec5pasg8uL4P",
      "metadata": {
        "id": "ec5pasg8uL4P"
      },
      "outputs": [],
      "source": [
        "for iv in videos:\n",
        "  iv = iv['image_sequence']\n",
        "  fig, ax = plt.subplots()\n",
        "  def animate(i):\n",
        "      ax.clear()\n",
        "      return ax.imshow(iv[0, i, :, :, 0], cmap='gray')\n",
        "  ani = animation.FuncAnimation(fig=fig,\n",
        "                                func=animate,\n",
        "                                frames=iv[0, :, 0, 0, 0].shape[0],\n",
        "                                interval=1000/FPS,\n",
        "                                blit=False)\n",
        "  #ani.save(\"/content/drive/My Drive/videos/LEARNSAMPLE.mp4\", animation.FFMpegWriter(fps=2) )\n",
        "  break\n",
        "HTML(ani.to_jshtml())"
      ]
    },
    {
      "cell_type": "code",
      "execution_count": null,
      "id": "vs0-9dQsueBX",
      "metadata": {
        "id": "vs0-9dQsueBX"
      },
      "outputs": [],
      "source": [
        "# for iv in videos:\n",
        "#   iv = iv['image_sequence']\n",
        "\n",
        "#   for jj in range(len(iv)):\n",
        "#     vid = np.uint8(iv[jj])\n",
        "\n",
        "#     frame_array = list(vid)\n",
        "#     # Set up the video writer\n",
        "#     fourcc = cv2.VideoWriter_fourcc(*'mp4v')\n",
        "#     out = cv2.VideoWriter('/content/drive/My Drive/videos/GTVIDEOS/GT'+str(jj)+'.mp4', fourcc, 2.0, (64, 64), isColor=False)\n",
        "#     # Write frames to the video file\n",
        "#     for frame in frame_array:\n",
        "#         out.write(frame)\n",
        "\n",
        "#     out.release()\n",
        "#   break"
      ]
    },
    {
      "cell_type": "markdown",
      "id": "33e05020-c135-4a94-a995-e1ce34a7a018",
      "metadata": {
        "id": "33e05020-c135-4a94-a995-e1ce34a7a018"
      },
      "source": [
        "# Train"
      ]
    },
    {
      "cell_type": "code",
      "execution_count": null,
      "id": "2941750e-8e24-471b-adf9-90867b50b19c",
      "metadata": {
        "id": "2941750e-8e24-471b-adf9-90867b50b19c"
      },
      "outputs": [],
      "source": [
        "EPOCHS = 60\n",
        "BATCH_SIZE"
      ]
    },
    {
      "cell_type": "code",
      "execution_count": null,
      "id": "1c1c4153-e7f4-43b5-b715-e20efcc0853a",
      "metadata": {
        "id": "1c1c4153-e7f4-43b5-b715-e20efcc0853a"
      },
      "outputs": [],
      "source": [
        "@tf.function\n",
        "def train_step(images):\n",
        "    noise = gennoise(BATCH_SIZE)\n",
        "    with tf.GradientTape() as gen_tape, tf.GradientTape() as disc_tape:\n",
        "      generated_images = generator(noise, training=True)\n",
        "\n",
        "      real_output = discriminator(images, training=True)\n",
        "      fake_output = discriminator(generated_images, training=True)\n",
        "\n",
        "      gen_loss = generator_loss(fake_output)\n",
        "      disc_loss = discriminator_loss(real_output, fake_output)\n",
        "\n",
        "    gradients_of_generator = gen_tape.gradient(gen_loss, generator.trainable_variables)\n",
        "    gradients_of_discriminator = disc_tape.gradient(disc_loss, discriminator.trainable_variables)\n",
        "\n",
        "    generator_optimizer.apply_gradients(zip(gradients_of_generator, generator.trainable_variables))\n",
        "    discriminator_optimizer.apply_gradients(zip(gradients_of_discriminator, discriminator.trainable_variables))"
      ]
    },
    {
      "cell_type": "code",
      "execution_count": null,
      "id": "SN1_5Gd1MVUp",
      "metadata": {
        "id": "SN1_5Gd1MVUp"
      },
      "outputs": [],
      "source": [
        "import cv2\n",
        "import numpy as np"
      ]
    },
    {
      "cell_type": "code",
      "execution_count": null,
      "id": "ad59c29f-5598-4bf2-b59a-c0796f05e0fb",
      "metadata": {
        "id": "ad59c29f-5598-4bf2-b59a-c0796f05e0fb"
      },
      "outputs": [],
      "source": [
        "def train(dataset, epochs):\n",
        "  for epoch in range(epochs):\n",
        "    start = time.time()\n",
        "\n",
        "    #Эпоха\n",
        "    j = 0\n",
        "    for image_batch in dataset:\n",
        "        print(\"\\r\", j, end='')\n",
        "        j+=1\n",
        "        d = image_batch['image_sequence']\n",
        "        d = (d-127.5)/127.5\n",
        "        train_step(d)\n",
        "\n",
        "        # if i>10:\n",
        "        #   break\n",
        "    print()\n",
        "\n",
        "    #Чекпоинт\n",
        "    !echo '' > \"/content/drive/My Drive/checkweights/ckpt.data-00000-of-00001\" && rm \"/content/drive/My Drive/checkweights/ckpt.data-00000-of-00001\"\n",
        "    checkpoint.write(file_prefix = checkpoint_prefix)\n",
        "    !mkdir -p \"/content/drive/My Drive/checkweights2\" && cp \"/content/drive/My Drive/checkweights/ckpt.data-00000-of-00001\" \"/content/drive/My Drive/checkweights2/\"\n",
        "\n",
        "    #50 видео\n",
        "    if (epoch==4 or epoch==19):\n",
        "\n",
        "      noise = gennoise(1)\n",
        "      generated_image = generator(noise, training=False)\n",
        "      fig, ax = plt.subplots()\n",
        "      def animate(i):\n",
        "          ax.clear()\n",
        "          return ax.imshow(generated_image[0, i, :, :, 0], cmap='gray')\n",
        "      ani = animation.FuncAnimation(fig=fig,\n",
        "                                    func=animate,\n",
        "                                    frames=generated_image[0, :, 0, 0, 0].shape[0],\n",
        "                                    interval=1000/FPS,\n",
        "                                    blit=False)\n",
        "      ani.save(\"/content/drive/My Drive/videos/\"+str(epoch+1)+\"GAN3DPlot.mp4\", animation.FFMpegWriter(fps=2) )\n",
        "      HTML(ani.to_jshtml())\n",
        "\n",
        "      number_of_examples = 50\n",
        "      noise = gennoise(number_of_examples)\n",
        "      generated_image = generator(noise, training=False)\n",
        "      gvids = generated_image.numpy()\n",
        "      for i in range(len(gvids)):\n",
        "        vid = 127.5*gvids[i]+127.5\n",
        "        vid = np.uint8(vid)\n",
        "\n",
        "        frame_array = list(vid)\n",
        "        # Set up the video writer\n",
        "        fourcc = cv2.VideoWriter_fourcc(*'mp4v')\n",
        "        out = cv2.VideoWriter('/content/drive/My Drive/videos/'+str(epoch+1)+'epochs/output'+str(i)+'.mp4', fourcc, 4.0, (64, 64), isColor=False)\n",
        "        # Write frames to the video file\n",
        "        for frame in frame_array:\n",
        "            out.write(frame)\n",
        "\n",
        "        out.release()\n",
        "\n",
        "\n",
        "    # #Тестовое видео\n",
        "    # noise = tf.random.normal([1, noisedim])\n",
        "    # generated_image = generator(noise, training=False)\n",
        "    # fig, ax = plt.subplots()\n",
        "    # def animate(i):\n",
        "    #     ax.clear()\n",
        "    #     return ax.imshow(generated_image[0, i, :, :, 0], cmap='gray')\n",
        "    # ani = animation.FuncAnimation(fig=fig,\n",
        "    #                               func=animate,\n",
        "    #                               frames=generated_image[0, :, 0, 0, 0].shape[0],\n",
        "    #                               interval=1000/FPS,\n",
        "    #                               blit=False)\n",
        "    # ani.save(\"/content/drive/My Drive/videos/GAN3DPlot.mp4\", animation.FFMpegWriter(fps=2) )\n",
        "    # HTML(ani.to_jshtml())\n",
        "\n",
        "\n",
        "    print ('Time for epoch {} is {} sec'.format(epoch + 1, time.time()-start))"
      ]
    },
    {
      "cell_type": "code",
      "execution_count": null,
      "id": "1b1a9d1b-e801-47d7-aafc-faea8c7b4399",
      "metadata": {
        "id": "1b1a9d1b-e801-47d7-aafc-faea8c7b4399"
      },
      "outputs": [],
      "source": [
        "train(videos, EPOCHS)"
      ]
    },
    {
      "cell_type": "markdown",
      "id": "9171e1c3-42f6-4095-b427-eb3d819e8704",
      "metadata": {
        "id": "9171e1c3-42f6-4095-b427-eb3d819e8704"
      },
      "source": [
        "## Task"
      ]
    },
    {
      "cell_type": "code",
      "execution_count": null,
      "id": "cgTmnym43AXI",
      "metadata": {
        "id": "cgTmnym43AXI"
      },
      "outputs": [],
      "source": [
        "noise = gennoise(1)"
      ]
    },
    {
      "cell_type": "code",
      "execution_count": null,
      "id": "b9b3dc4b-18e3-47a0-af5e-42a4ddd711e5",
      "metadata": {
        "id": "b9b3dc4b-18e3-47a0-af5e-42a4ddd711e5"
      },
      "outputs": [],
      "source": [
        "generated_image = generator(noise, training=False)\n",
        "fig, ax = plt.subplots()\n",
        "def animate(i):\n",
        "    ax.clear()\n",
        "    return ax.imshow(generated_image[0, i, :, :, 0], cmap='gray')\n",
        "ani = animation.FuncAnimation(fig=fig,\n",
        "                              func=animate,\n",
        "                              frames=generated_image[0, :, 0, 0, 0].shape[0],\n",
        "                              interval=1000/FPS,\n",
        "                              blit=False)\n",
        "ani.save(\"/content/drive/My Drive/videos/GAN3DPlot.mp4\", animation.FFMpegWriter(fps=4) )\n",
        "HTML(ani.to_jshtml())"
      ]
    },
    {
      "cell_type": "markdown",
      "id": "GsbTDnRFkkPO",
      "metadata": {
        "id": "GsbTDnRFkkPO"
      },
      "source": [
        "# Метрики"
      ]
    },
    {
      "cell_type": "code",
      "execution_count": null,
      "id": "vkTekZ6r78Q3",
      "metadata": {
        "id": "vkTekZ6r78Q3"
      },
      "outputs": [],
      "source": [
        "number_of_examples = 50"
      ]
    },
    {
      "cell_type": "code",
      "execution_count": null,
      "id": "uqJxCrsv6EUX",
      "metadata": {
        "id": "uqJxCrsv6EUX"
      },
      "outputs": [],
      "source": [
        "noise = gennoise(number_of_examples)"
      ]
    },
    {
      "cell_type": "code",
      "execution_count": null,
      "id": "9XyR2yCb6Kv3",
      "metadata": {
        "id": "9XyR2yCb6Kv3"
      },
      "outputs": [],
      "source": [
        "generated_image = generator(noise, training=False)"
      ]
    },
    {
      "cell_type": "code",
      "execution_count": null,
      "id": "RV8fzZ41pNUq",
      "metadata": {
        "id": "RV8fzZ41pNUq"
      },
      "outputs": [],
      "source": [
        "gvids = generated_image.numpy()"
      ]
    },
    {
      "cell_type": "code",
      "execution_count": null,
      "id": "PMWTrSaTpDIL",
      "metadata": {
        "id": "PMWTrSaTpDIL"
      },
      "outputs": [],
      "source": [
        "gvids.shape"
      ]
    },
    {
      "cell_type": "code",
      "execution_count": null,
      "id": "ipPfGavuo-_9",
      "metadata": {
        "id": "ipPfGavuo-_9"
      },
      "outputs": [],
      "source": [
        "import cv2\n",
        "import numpy as np"
      ]
    },
    {
      "cell_type": "code",
      "execution_count": null,
      "id": "4oZMrEyQpqlS",
      "metadata": {
        "id": "4oZMrEyQpqlS"
      },
      "outputs": [],
      "source": [
        "for i in range(len(gvids)):\n",
        "  vid = 127.5*gvids[i]+127.5\n",
        "  vid = np.uint8(vid)\n",
        "\n",
        "  frame_array = list(vid)\n",
        "  # Set up the video writer\n",
        "  fourcc = cv2.VideoWriter_fourcc(*'mp4v')\n",
        "  out = cv2.VideoWriter('/content/drive/My Drive/videos/'+str(60)+'epochs/output'+str(i)+'.mp4', fourcc, 4.0, (64, 64), isColor=False)\n",
        "  # Write frames to the video file\n",
        "  for frame in frame_array:\n",
        "      out.write(frame)\n",
        "\n",
        "  out.release()"
      ]
    },
    {
      "cell_type": "code",
      "source": [
        "discroutfake = discriminator(gvids).numpy()"
      ],
      "metadata": {
        "id": "yuK2T-GFzL-T"
      },
      "id": "yuK2T-GFzL-T",
      "execution_count": null,
      "outputs": []
    },
    {
      "cell_type": "code",
      "source": [
        "for iv in videos:\n",
        "  iv = iv['image_sequence'][:50]\n",
        "  break\n",
        "\n",
        "iv.shape"
      ],
      "metadata": {
        "id": "9pihVdRkzjtS"
      },
      "id": "9pihVdRkzjtS",
      "execution_count": null,
      "outputs": []
    },
    {
      "cell_type": "code",
      "source": [
        "discroutreal = discriminator(iv).numpy()\n",
        "discroutreal.shape"
      ],
      "metadata": {
        "id": "_t__onWL5fXI"
      },
      "id": "_t__onWL5fXI",
      "execution_count": null,
      "outputs": []
    },
    {
      "cell_type": "code",
      "source": [
        "discroutrealprob = (np.tanh(discroutreal/2)+np.ones_like(discroutreal))/2"
      ],
      "metadata": {
        "id": "eypB9s03Amkf"
      },
      "id": "eypB9s03Amkf",
      "execution_count": null,
      "outputs": []
    },
    {
      "cell_type": "code",
      "source": [
        "discroutfakeprob = (np.tanh(discroutfake/2)+np.ones_like(discroutfake))/2"
      ],
      "metadata": {
        "id": "fIQLZUkUDWbT"
      },
      "id": "fIQLZUkUDWbT",
      "execution_count": null,
      "outputs": []
    },
    {
      "cell_type": "markdown",
      "id": "BcP38T0U1c1d",
      "metadata": {
        "id": "BcP38T0U1c1d"
      },
      "source": [
        "## ACD"
      ]
    },
    {
      "cell_type": "markdown",
      "id": "I7_CEccIFM_v",
      "metadata": {
        "id": "I7_CEccIFM_v"
      },
      "source": [
        "Average Content Distance (ACD) — это мера, которая показывает среднее расстояние между содержанием кадров в видео.  "
      ]
    },
    {
      "cell_type": "code",
      "execution_count": null,
      "id": "HyqQF4DdDw9L",
      "metadata": {
        "id": "HyqQF4DdDw9L"
      },
      "outputs": [],
      "source": [
        "def ACD(framess):\n",
        "  N = np.multiply.reduce(framess.shape[1:-1])\n",
        "  res = np.mean(\n",
        "              np.linalg.norm(\n",
        "                np.diff(\n",
        "                  np.einsum('ijkl->il', framess),\n",
        "                axis=0) / N,\n",
        "              axis=1)\n",
        "            )\n",
        "  return res"
      ]
    },
    {
      "cell_type": "code",
      "execution_count": null,
      "id": "QZRaqvxh1fGM",
      "metadata": {
        "id": "QZRaqvxh1fGM"
      },
      "outputs": [],
      "source": [
        "sumres = 0\n",
        "for i in range(number_of_examples):\n",
        "  frames = generated_image[i]\n",
        "  res = ACD(frames)\n",
        "  sumres+=res\n"
      ]
    },
    {
      "cell_type": "code",
      "source": [
        "frames.shape"
      ],
      "metadata": {
        "id": "HFGXhPT92wor"
      },
      "id": "HFGXhPT92wor",
      "execution_count": null,
      "outputs": []
    },
    {
      "cell_type": "code",
      "source": [
        " np.diff(np.einsum('ijkl->il', frames), axis=0)"
      ],
      "metadata": {
        "id": "JSqZLOyb1aMG"
      },
      "id": "JSqZLOyb1aMG",
      "execution_count": null,
      "outputs": []
    },
    {
      "cell_type": "code",
      "execution_count": null,
      "id": "TyB_jIf87Pto",
      "metadata": {
        "id": "TyB_jIf87Pto"
      },
      "outputs": [],
      "source": [
        "averageACD = sumres/number_of_examples"
      ]
    },
    {
      "cell_type": "code",
      "execution_count": null,
      "id": "iE-M0iF38k-L",
      "metadata": {
        "id": "iE-M0iF38k-L"
      },
      "outputs": [],
      "source": [
        "print(\"Для сгенерированных видео:\", averageACD)"
      ]
    },
    {
      "cell_type": "markdown",
      "id": "Zj16jyJCEgR4",
      "metadata": {
        "id": "Zj16jyJCEgR4"
      },
      "source": [
        "Для 10 эпох – 0.2229950550198555\n",
        "\n",
        "60 эпох – 0.38825045645236966"
      ]
    },
    {
      "cell_type": "code",
      "execution_count": null,
      "id": "TdtH3l6tEE1R",
      "metadata": {
        "id": "TdtH3l6tEE1R"
      },
      "outputs": [],
      "source": [
        "for imb in videos:\n",
        "  h=[]\n",
        "  for i in range(50):\n",
        "    exvid = imb['image_sequence'][i]\n",
        "    exvid = (exvid-127.5)/127.5\n",
        "    h.append(ACD(exvid))\n",
        "  break\n",
        "print(\"Для тестовых видео:\", np.mean(h))"
      ]
    },
    {
      "cell_type": "code",
      "source": [],
      "metadata": {
        "id": "QG2ZZlQUzfbw"
      },
      "id": "QG2ZZlQUzfbw",
      "execution_count": null,
      "outputs": []
    },
    {
      "cell_type": "markdown",
      "id": "w6HiInPT_jf4",
      "metadata": {
        "id": "w6HiInPT_jf4"
      },
      "source": [
        "## CLIP Tem-Con"
      ]
    },
    {
      "cell_type": "markdown",
      "id": "ieuJGqt1FQ8y",
      "metadata": {
        "id": "ieuJGqt1FQ8y"
      },
      "source": [
        "CLIP Tem-Con — это метрика, которая измеряет временную согласованность путём вычисления косинусного сходства между всеми парами последовательных кадров."
      ]
    },
    {
      "cell_type": "code",
      "execution_count": null,
      "id": "qOndkQdy_0Iq",
      "metadata": {
        "id": "qOndkQdy_0Iq"
      },
      "outputs": [],
      "source": [
        "from sklearn.metrics.pairwise import cosine_similarity\n",
        "from numpy import dot\n",
        "from numpy.linalg import norm"
      ]
    },
    {
      "cell_type": "code",
      "execution_count": null,
      "id": "7RSzFpekbBfP",
      "metadata": {
        "id": "7RSzFpekbBfP"
      },
      "outputs": [],
      "source": [
        "def CTC(vid):\n",
        "  sumFrameTC = 0\n",
        "  for j in range(len(vid)-1):\n",
        "    a = np.array(vid[j]).flatten()\n",
        "    b = np.array(vid[j+1]).flatten()\n",
        "    sumFrameTC += dot(a, b)/(norm(a)*norm(b))\n",
        "  averageFrameCS = sumFrameTC/(len(frames)-1)\n",
        "  return averageFrameCS"
      ]
    },
    {
      "cell_type": "code",
      "execution_count": null,
      "id": "BZftTQuzDtC4",
      "metadata": {
        "id": "BZftTQuzDtC4"
      },
      "outputs": [],
      "source": [
        "sumTC = 0\n",
        "for i in range(number_of_examples):\n",
        "  frames = generated_image[i]\n",
        "  sumFrameTC = 0\n",
        "  averageFrameCS = CTC(frames)\n",
        "  sumTC += averageFrameCS\n",
        "averageTemCon = sumTC/number_of_examples"
      ]
    },
    {
      "cell_type": "code",
      "execution_count": null,
      "id": "IHhKHVBVHE00",
      "metadata": {
        "id": "IHhKHVBVHE00"
      },
      "outputs": [],
      "source": [
        "print(\"Для сгенерированных видео:\", averageTemCon)"
      ]
    },
    {
      "cell_type": "markdown",
      "id": "uTmWbr7tCQnt",
      "metadata": {
        "id": "uTmWbr7tCQnt"
      },
      "source": [
        "Для 10 эпох – 0.1906326056926245\n",
        "\n",
        "60 эпох – 0.3052954191273373"
      ]
    },
    {
      "cell_type": "code",
      "execution_count": null,
      "id": "A4vo-ehwaqyt",
      "metadata": {
        "id": "A4vo-ehwaqyt"
      },
      "outputs": [],
      "source": [
        "for imb in videos:\n",
        "  h=[]\n",
        "  for i in range(50):\n",
        "    exvid = imb['image_sequence'][i]\n",
        "    exvid = (exvid-127.5)/127.5\n",
        "    h.append(CTC(exvid))\n",
        "  break\n",
        "print(\"Для тестовых видео:\", np.mean(h))"
      ]
    },
    {
      "cell_type": "code",
      "execution_count": null,
      "id": "_dwwL6EKCKPS",
      "metadata": {
        "id": "_dwwL6EKCKPS"
      },
      "outputs": [],
      "source": []
    },
    {
      "cell_type": "markdown",
      "source": [
        "#MSE/RMSE"
      ],
      "metadata": {
        "id": "qlSVFKTHyb4D"
      },
      "id": "qlSVFKTHyb4D"
    },
    {
      "cell_type": "code",
      "source": [
        "realerror = (np.ones_like(discroutrealprob)-discroutrealprob)**2\n",
        "fakeerror = (np.zeros_like(discroutfakeprob)-discroutfakeprob)**2"
      ],
      "metadata": {
        "id": "XTRZ7GXRybI9"
      },
      "id": "XTRZ7GXRybI9",
      "execution_count": null,
      "outputs": []
    },
    {
      "cell_type": "code",
      "source": [
        "print(\"Ошибка на реальных видео\", np.sum(realerror)/50)"
      ],
      "metadata": {
        "id": "vjFmvbKCIW5V"
      },
      "id": "vjFmvbKCIW5V",
      "execution_count": null,
      "outputs": []
    },
    {
      "cell_type": "code",
      "source": [
        "print(\"Ошибка на фейковых видео\", np.sum(fakeerror)/50)"
      ],
      "metadata": {
        "id": "cO1cF1MsIY5G"
      },
      "id": "cO1cF1MsIY5G",
      "execution_count": null,
      "outputs": []
    },
    {
      "cell_type": "code",
      "source": [
        "print(\"Суммарная ошибка\", (np.sum(fakeerror)+np.sum(realerror))/100)"
      ],
      "metadata": {
        "id": "UrKl8CKTIbYz"
      },
      "id": "UrKl8CKTIbYz",
      "execution_count": null,
      "outputs": []
    },
    {
      "cell_type": "markdown",
      "source": [
        "#MAE"
      ],
      "metadata": {
        "id": "5sca7ZZsyks6"
      },
      "id": "5sca7ZZsyks6"
    },
    {
      "cell_type": "code",
      "source": [
        "realerror = np.abs(np.ones_like(discroutrealprob)-discroutrealprob)\n",
        "fakeerror = np.abs(np.zeros_like(discroutfakeprob)-discroutfakeprob)"
      ],
      "metadata": {
        "id": "4Q0QO1VEymIK"
      },
      "id": "4Q0QO1VEymIK",
      "execution_count": null,
      "outputs": []
    },
    {
      "cell_type": "code",
      "source": [
        "print(\"Ошибка на реальных видео\", np.sum(realerror)/50)"
      ],
      "metadata": {
        "id": "ozmV-qVkHabb"
      },
      "id": "ozmV-qVkHabb",
      "execution_count": null,
      "outputs": []
    },
    {
      "cell_type": "code",
      "source": [
        "print(\"Ошибка на фейковых видео\", np.sum(fakeerror)/50)"
      ],
      "metadata": {
        "id": "68ahy31qHqmK"
      },
      "id": "68ahy31qHqmK",
      "execution_count": null,
      "outputs": []
    },
    {
      "cell_type": "code",
      "source": [
        "print(\"Суммарная ошибка\", (np.sum(fakeerror)+np.sum(realerror))/100)"
      ],
      "metadata": {
        "id": "A1MzsYhNH7cw"
      },
      "id": "A1MzsYhNH7cw",
      "execution_count": null,
      "outputs": []
    },
    {
      "cell_type": "code",
      "source": [],
      "metadata": {
        "id": "A6LvE-5QiiLP"
      },
      "id": "A6LvE-5QiiLP",
      "execution_count": null,
      "outputs": []
    }
  ],
  "metadata": {
    "colab": {
      "collapsed_sections": [
        "w6HiInPT_jf4",
        "iher2xolWcXQ",
        "LgWusLTlXhgz",
        "6b0vUQfTlSTU"
      ],
      "provenance": [],
      "include_colab_link": true
    },
    "kernelspec": {
      "display_name": "Python 3",
      "name": "python3"
    },
    "language_info": {
      "codemirror_mode": {
        "name": "ipython",
        "version": 3
      },
      "file_extension": ".py",
      "mimetype": "text/x-python",
      "name": "python",
      "nbconvert_exporter": "python",
      "pygments_lexer": "ipython3",
      "version": "3.11.4"
    }
  },
  "nbformat": 4,
  "nbformat_minor": 5
}